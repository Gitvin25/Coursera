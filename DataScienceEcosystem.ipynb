{
 "cells": [
  {
   "cell_type": "markdown",
   "metadata": {},
   "source": [
    "Exercise 2: Create markdown cell with title of the notebook\n",
    "\n",
    "# Data Science Tools and Ecosystem"
   ]
  },
  {
   "cell_type": "markdown",
   "metadata": {},
   "source": [
    "Exercise 3 - Create a markdown cell for an introduction\n",
    "\n",
    "In this notebook, Data Science Tools and Ecosystem are summarized"
   ]
  },
  {
   "cell_type": "markdown",
   "metadata": {},
   "source": [
    "Exercise 4 - Create a markdown cell to list data science languages\n",
    "\n",
    "### Data Science Languages:\n",
    "\n",
    "1. **Python**: Widely used for its rich ecosystem of libraries such as NumPy, Pandas, and Scikit-learn.\n",
    "\n",
    "2. **R**: Popular for statistical analysis and data visualization.\n",
    "\n",
    "3. **SQL**: Essential for working with relational databases.\n",
    "\n",
    "4. **Julia**: Known for its high-performance computing capabilities in data science.\n",
    "\n",
    "5. **Scala**: Often used in big data processing frameworks like Apache Spark.\n",
    "\n",
    "6. **MATLAB**: Commonly used in academic and industrial research.\n",
    "\n",
    "7. **Java**: Sometimes used in big data and machine learning applications.\n",
    "\n",
    "8. **SAS**: Widely used in statistical analysis and business intelligence.\n",
    "\n",
    "9. **Go**: Gaining popularity for its simplicity and performance in data processing.\n",
    "\n",
    "Choose the language based on your specific needs and preferences.\n"
   ]
  },
  {
   "cell_type": "markdown",
   "metadata": {},
   "source": [
    "### Data Science Libraries Overview:\n",
    "\n",
    "Some of the commonly used libraries by Data Scientists include:\n",
    "\n",
    "1. **NumPy**: Fundamental package for scientific computing with Python. It provides support for large, multi-dimensional arrays and matrices.\n",
    "\n",
    "2. **Pandas**: Data manipulation and analysis library. It offers data structures like DataFrame for efficient data cleaning, exploration, and analysis.\n",
    "\n",
    "3. **Scikit-learn**: Machine learning library for classical machine learning algorithms. It provides simple and efficient tools for data mining and data analysis.\n",
    "\n",
    "4. **Matplotlib**: Comprehensive library for creating static, animated, and interactive visualizations in Python.\n",
    "\n",
    "5. **Seaborn**: Built on top of Matplotlib, Seaborn provides a high-level interface for drawing attractive and informative statistical graphics.\n",
    "\n",
    "6. **TensorFlow**: Open-source machine learning framework developed by the Google Brain team. Widely used for building and training deep learning models.\n",
    "\n",
    "7. **PyTorch**: Another popular open-source deep learning framework. Known for its dynamic computation graph and ease of use.\n",
    "\n",
    "\n"
   ]
  },
  {
   "cell_type": "markdown",
   "metadata": {},
   "source": [
    "Exercise 6 - Create a markdown cell with a table of Data Science tools\n",
    "\n",
    "### Data Science Tools\n",
    "\n",
    "| Data Science Tools         |\n",
    "| -------------------------- |\n",
    "| Jupyter Notebooks          |\n",
    "| RStudio                    |\n",
    "| VS Code (Visual Studio Code)|\n",
    "\n"
   ]
  },
  {
   "cell_type": "markdown",
   "metadata": {},
   "source": [
    "Exercise 7 - Create a markdown cell introducing arithmetic expression examples\n",
    "\n",
    "### Examples of Evaluating Arithmetic Expressions in Python\n",
    "\n",
    "Below are a few examples of evaluating arithmetic expressions in Python:\n",
    "\n",
    "1. **Addition:**\n",
    "   ```python\n",
    "   result_addition = 5 + 3\n",
    "   print(result_addition)  # Output: 8\n",
    "\n",
    "\n",
    "result_subtraction = 10 - 4\n",
    "print(result_subtraction)  # Output: 6\n",
    "\n",
    "\n",
    "result_multiplication = 6 * 2\n",
    "print(result_multiplication)  # Output: 12\n",
    "\n",
    "result_division = 15 / 3\n",
    "print(result_division)  # Output: 5.0\n",
    "\n",
    "result_exponentiation = 2 ** 4\n",
    "print(result_exponentiation)  # Output: 16\n",
    "\n",
    "\n"
   ]
  },
  {
   "cell_type": "code",
   "execution_count": 1,
   "metadata": {},
   "outputs": [
    {
     "name": "stdout",
     "output_type": "stream",
     "text": [
      "17\n"
     ]
    }
   ],
   "source": [
    "# Exercise 8 - Create a code cell to multiply and add numbers\n",
    "\n",
    "# This is a simple arithmetic expression to multiply then add integers.\n",
    "result = (3 * 4) + 5\n",
    "print(result)  \n"
   ]
  },
  {
   "cell_type": "code",
   "execution_count": 2,
   "metadata": {},
   "outputs": [
    {
     "name": "stdout",
     "output_type": "stream",
     "text": [
      "3.3333333333333335\n"
     ]
    }
   ],
   "source": [
    "# Exercise 9 - Create a code cell to convert minutes to hours\n",
    "\n",
    "# This will convert 200 minutes to hours by dividing by 60.\n",
    "minutes = 200\n",
    "hours = minutes / 60\n",
    "print(hours)  \n"
   ]
  },
  {
   "cell_type": "markdown",
   "metadata": {},
   "source": [
    "Exercise 10 - Insert a markdown cell to list Objectives\n",
    "\n",
    "### Objectives:\n",
    "\n",
    "- **Introduction to Data Science Tools:** An overview of commonly used tools in data science, including Jupyter Notebooks, RStudio, and VS Code.\n",
    "\n",
    "- **Data Science Languages:** A brief introduction to popular programming languages used in data science, such as Python, R, and SQL.\n",
    "\n",
    "- **Data Science Libraries:** An exploration of essential libraries like NumPy, Pandas, Scikit-learn, and others commonly used by data scientists.\n",
    "\n",
    "- **Arithmetic Expressions in Python:** Examples and explanations of basic arithmetic operations in Python, including addition, subtraction, multiplication, division, and exponentiation.\n",
    "\n",
    "- **Code Execution Examples:** Practical examples demonstrating the evaluation of arithmetic expressions and the conversion of minutes to hours in Python.\n"
   ]
  },
  {
   "cell_type": "markdown",
   "metadata": {},
   "source": [
    "Exercise 11 - Create a markdown cell to indicate the Author's name\n",
    "\n",
    "## Author: Pravene\n",
    "\n",
    "Pravene\n"
   ]
  }
 ],
 "metadata": {
  "kernelspec": {
   "display_name": "Python 3",
   "language": "python",
   "name": "python3"
  },
  "language_info": {
   "codemirror_mode": {
    "name": "ipython",
    "version": 3
   },
   "file_extension": ".py",
   "mimetype": "text/x-python",
   "name": "python",
   "nbconvert_exporter": "python",
   "pygments_lexer": "ipython3",
   "version": "3.7.4"
  }
 },
 "nbformat": 4,
 "nbformat_minor": 2
}
